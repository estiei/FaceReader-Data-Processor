{
 "cells": [
  {
   "cell_type": "code",
   "execution_count": 2,
   "metadata": {},
   "outputs": [],
   "source": [
    "import pandas as pd\n",
    "import numpy as np\n",
    "import os\n",
    "import shutil\n",
    "import movieslib as mov"
   ]
  },
  {
   "cell_type": "code",
   "execution_count": 3,
   "metadata": {},
   "outputs": [],
   "source": [
    "FOLDER_INPUT = './12movies_output/'\n",
    "FOLDER_OUTPUT = './12movies_standard_timestamps' #create a new folder (rewrite!)"
   ]
  },
  {
   "cell_type": "code",
   "execution_count": 4,
   "metadata": {},
   "outputs": [
    {
     "name": "stdout",
     "output_type": "stream",
     "text": [
      "['timestamps_AllOrNothingAM.csv', 'timestamps_FastAndFuriousHM.csv', 'timestamps_SynecdocheAM.csv', 'timestamps_BrightStarAM.csv', 'timestamps_SpiderAM.csv', 'timestamps_QuantumOfSolaceHM.csv', 'timestamps_CertifiedCopyAM.csv', 'timestamps_MonsterInLawHM.csv', 'timestamps_ClickHM.csv', 'timestamps_CleanAM.csv', 'timestamps_TheDarkKnightHM.csv', 'timestamps_PiratesOfCaribbeanHM.csv']\n"
     ]
    }
   ],
   "source": [
    "file_timestamps = mov.get_filenames(FOLDER_INPUT, 'timestamps')\n",
    "print(file_timestamps)"
   ]
  },
  {
   "cell_type": "code",
   "execution_count": null,
   "metadata": {},
   "outputs": [],
   "source": [
    "#transform time to the human-readable format\n",
    "\n",
    "FOLD = './12movies_standard_timestamps' #create a new folder (rewrite!)\n",
    "mov.new_folder(FOLD)\n",
    "\n",
    "for i in file_timestamps:\n",
    "    name = i.split('_')[1].split('.')[0]\n",
    "    fnames_short.append(name)\n",
    "    print('Prosess file', name, '...')\n",
    "    df = pd.read_csv(FOLDER_INPUT + i, delimiter=',')\n",
    "    print('ok reading csv...')\n",
    "\n",
    "    time_start = []\n",
    "    time_end = []\n",
    "    for i in range(len(df)):\n",
    "        temp = df.iloc[i]\n",
    "        start = time_transform(str(temp['time_start']))\n",
    "        end = time_transform(str(temp['time_end']))\n",
    "        time_start.append(start)\n",
    "        time_end.append(end)\n",
    "\n",
    "\n",
    "    df[\"time_start\"] = time_start\n",
    "    df[\"time_end\"] = time_end\n",
    "\n",
    "    pd.DataFrame.from_dict(df).to_csv(f'./{FOLDER_OUTPUT}/{name}_timestamps.csv', sep=',', mode='w')"
   ]
  }
 ],
 "metadata": {
  "kernelspec": {
   "display_name": "Python 3.9.12 ('base')",
   "language": "python",
   "name": "python3"
  },
  "language_info": {
   "codemirror_mode": {
    "name": "ipython",
    "version": 3
   },
   "file_extension": ".py",
   "mimetype": "text/x-python",
   "name": "python",
   "nbconvert_exporter": "python",
   "pygments_lexer": "ipython3",
   "version": "3.9.12"
  },
  "orig_nbformat": 4,
  "vscode": {
   "interpreter": {
    "hash": "cd78fef2128015050713e82ca51c6520b11aee7c9ee8df750520bbbc7384cbaa"
   }
  }
 },
 "nbformat": 4,
 "nbformat_minor": 2
}
